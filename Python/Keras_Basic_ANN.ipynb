{
 "cells": [
  {
   "cell_type": "markdown",
   "metadata": {},
   "source": [
    "# Feedfoward Neural Network for Binary Classification"
   ]
  },
  {
   "cell_type": "markdown",
   "metadata": {},
   "source": [
    "Basic implementation of a feedforward ANN with Keras for binary classificaiton."
   ]
  },
  {
   "cell_type": "markdown",
   "metadata": {},
   "source": [
    "## Data Overview"
   ]
  },
  {
   "cell_type": "markdown",
   "metadata": {},
   "source": [
    "For this example, we'll be using the titanic dataset (cliche - I know) to try and perdict who survives. First, we'll set up the dataframe and load up some modules."
   ]
  },
  {
   "cell_type": "code",
   "execution_count": 120,
   "metadata": {},
   "outputs": [],
   "source": [
    "## Preliminaries \n",
    "from keras.models import Sequential\n",
    "from keras.layers import Dense\n",
    "import pandas as pd\n",
    "from sklearn.model_selection import train_test_split\n",
    "from sklearn.metrics import classification_report, confusion_matrix\n",
    "\n",
    "\n",
    "## Important Data Frame\n",
    "titantic = pd.read_csv('/Users/benjamindraves/Desktop/DravesDocs/Datasets/titanic.csv')"
   ]
  },
  {
   "cell_type": "code",
   "execution_count": 121,
   "metadata": {},
   "outputs": [
    {
     "data": {
      "text/html": [
       "<div>\n",
       "<style scoped>\n",
       "    .dataframe tbody tr th:only-of-type {\n",
       "        vertical-align: middle;\n",
       "    }\n",
       "\n",
       "    .dataframe tbody tr th {\n",
       "        vertical-align: top;\n",
       "    }\n",
       "\n",
       "    .dataframe thead th {\n",
       "        text-align: right;\n",
       "    }\n",
       "</style>\n",
       "<table border=\"1\" class=\"dataframe\">\n",
       "  <thead>\n",
       "    <tr style=\"text-align: right;\">\n",
       "      <th></th>\n",
       "      <th>Survived</th>\n",
       "      <th>Pclass</th>\n",
       "      <th>Name</th>\n",
       "      <th>Sex</th>\n",
       "      <th>Age</th>\n",
       "      <th>Siblings/Spouses Aboard</th>\n",
       "      <th>Parents/Children Aboard</th>\n",
       "      <th>Fare</th>\n",
       "    </tr>\n",
       "  </thead>\n",
       "  <tbody>\n",
       "    <tr>\n",
       "      <th>0</th>\n",
       "      <td>0</td>\n",
       "      <td>3</td>\n",
       "      <td>Mr. Owen Harris Braund</td>\n",
       "      <td>male</td>\n",
       "      <td>22.0</td>\n",
       "      <td>1</td>\n",
       "      <td>0</td>\n",
       "      <td>7.2500</td>\n",
       "    </tr>\n",
       "    <tr>\n",
       "      <th>1</th>\n",
       "      <td>1</td>\n",
       "      <td>1</td>\n",
       "      <td>Mrs. John Bradley (Florence Briggs Thayer) Cum...</td>\n",
       "      <td>female</td>\n",
       "      <td>38.0</td>\n",
       "      <td>1</td>\n",
       "      <td>0</td>\n",
       "      <td>71.2833</td>\n",
       "    </tr>\n",
       "    <tr>\n",
       "      <th>2</th>\n",
       "      <td>1</td>\n",
       "      <td>3</td>\n",
       "      <td>Miss. Laina Heikkinen</td>\n",
       "      <td>female</td>\n",
       "      <td>26.0</td>\n",
       "      <td>0</td>\n",
       "      <td>0</td>\n",
       "      <td>7.9250</td>\n",
       "    </tr>\n",
       "    <tr>\n",
       "      <th>3</th>\n",
       "      <td>1</td>\n",
       "      <td>1</td>\n",
       "      <td>Mrs. Jacques Heath (Lily May Peel) Futrelle</td>\n",
       "      <td>female</td>\n",
       "      <td>35.0</td>\n",
       "      <td>1</td>\n",
       "      <td>0</td>\n",
       "      <td>53.1000</td>\n",
       "    </tr>\n",
       "    <tr>\n",
       "      <th>4</th>\n",
       "      <td>0</td>\n",
       "      <td>3</td>\n",
       "      <td>Mr. William Henry Allen</td>\n",
       "      <td>male</td>\n",
       "      <td>35.0</td>\n",
       "      <td>0</td>\n",
       "      <td>0</td>\n",
       "      <td>8.0500</td>\n",
       "    </tr>\n",
       "  </tbody>\n",
       "</table>\n",
       "</div>"
      ],
      "text/plain": [
       "   Survived  Pclass                                               Name  \\\n",
       "0         0       3                             Mr. Owen Harris Braund   \n",
       "1         1       1  Mrs. John Bradley (Florence Briggs Thayer) Cum...   \n",
       "2         1       3                              Miss. Laina Heikkinen   \n",
       "3         1       1        Mrs. Jacques Heath (Lily May Peel) Futrelle   \n",
       "4         0       3                            Mr. William Henry Allen   \n",
       "\n",
       "      Sex   Age  Siblings/Spouses Aboard  Parents/Children Aboard     Fare  \n",
       "0    male  22.0                        1                        0   7.2500  \n",
       "1  female  38.0                        1                        0  71.2833  \n",
       "2  female  26.0                        0                        0   7.9250  \n",
       "3  female  35.0                        1                        0  53.1000  \n",
       "4    male  35.0                        0                        0   8.0500  "
      ]
     },
     "execution_count": 121,
     "metadata": {},
     "output_type": "execute_result"
    }
   ],
   "source": [
    "# Check it out\n",
    "titantic.head(5)"
   ]
  },
  {
   "cell_type": "code",
   "execution_count": 122,
   "metadata": {},
   "outputs": [
    {
     "name": "stderr",
     "output_type": "stream",
     "text": [
      "<ipython-input-122-6b8f97e8a0bb>:12: SettingWithCopyWarning: \n",
      "A value is trying to be set on a copy of a slice from a DataFrame.\n",
      "Try using .loc[row_indexer,col_indexer] = value instead\n",
      "\n",
      "See the caveats in the documentation: https://pandas.pydata.org/pandas-docs/stable/user_guide/indexing.html#returning-a-view-versus-a-copy\n",
      "  X['Sex_num'] = X['Sex'].apply(sex_to_num)\n"
     ]
    },
    {
     "data": {
      "text/plain": [
       "array([[ 3.    , 22.    ,  1.    ,  0.    ,  7.25  ,  0.    ],\n",
       "       [ 1.    , 38.    ,  1.    ,  0.    , 71.2833,  1.    ],\n",
       "       [ 3.    , 26.    ,  0.    ,  0.    ,  7.925 ,  1.    ],\n",
       "       [ 1.    , 35.    ,  1.    ,  0.    , 53.1   ,  1.    ],\n",
       "       [ 3.    , 35.    ,  0.    ,  0.    ,  8.05  ,  0.    ],\n",
       "       [ 3.    , 27.    ,  0.    ,  0.    ,  8.4583,  0.    ],\n",
       "       [ 1.    , 54.    ,  0.    ,  0.    , 51.8625,  0.    ],\n",
       "       [ 3.    ,  2.    ,  3.    ,  1.    , 21.075 ,  0.    ],\n",
       "       [ 3.    , 27.    ,  0.    ,  2.    , 11.1333,  1.    ],\n",
       "       [ 2.    , 14.    ,  1.    ,  0.    , 30.0708,  1.    ]])"
      ]
     },
     "execution_count": 122,
     "metadata": {},
     "output_type": "execute_result"
    }
   ],
   "source": [
    "#Split Data into X and Y variables\n",
    "X = titantic[['Pclass', 'Sex', 'Age', 'Siblings/Spouses Aboard', 'Parents/Children Aboard', 'Fare']]\n",
    "y = titantic['Survived'].to_numpy()\n",
    "\n",
    "#replace sex with 0 = male, 1 = female\n",
    "def sex_to_num(str):\n",
    "    if str == 'male':\n",
    "        return(0)\n",
    "    else:\n",
    "        return(1)\n",
    "    \n",
    "X['Sex_num'] = X['Sex'].apply(sex_to_num)\n",
    "X = X.drop('Sex', axis=1).to_numpy()\n",
    "\n",
    "#head of X \n",
    "X[:10, ]"
   ]
  },
  {
   "cell_type": "markdown",
   "metadata": {},
   "source": [
    "## Create training and test sets\n"
   ]
  },
  {
   "cell_type": "code",
   "execution_count": 123,
   "metadata": {},
   "outputs": [],
   "source": [
    "X_train, X_test, y_train, y_test = train_test_split(X, y, test_size=0.1, random_state=1985)"
   ]
  },
  {
   "cell_type": "markdown",
   "metadata": {},
   "source": [
    "## Exploratory Data Analysis\n",
    "\n",
    "Here is where we would typically do EDA, but we're going to add that as a seciton to add later. We're going to go straight into constructing the model"
   ]
  },
  {
   "cell_type": "markdown",
   "metadata": {},
   "source": [
    "## Model Building"
   ]
  },
  {
   "cell_type": "code",
   "execution_count": 124,
   "metadata": {},
   "outputs": [],
   "source": [
    "#construct the keras model object\n",
    "model = Sequential()\n",
    "model.add(Dense(24, input_dim=X_train.shape[1], activation='relu'))\n",
    "model.add(Dense(24, activation='relu'))\n",
    "model.add(Dense(1, activation='sigmoid'))"
   ]
  },
  {
   "cell_type": "code",
   "execution_count": 125,
   "metadata": {},
   "outputs": [
    {
     "name": "stdout",
     "output_type": "stream",
     "text": [
      "Epoch 1/150\n",
      "80/80 [==============================] - 0s 1ms/step - loss: 2.0925 - accuracy: 0.5840\n",
      "Epoch 2/150\n",
      "80/80 [==============================] - 0s 1ms/step - loss: 0.6404 - accuracy: 0.6917\n",
      "Epoch 3/150\n",
      "80/80 [==============================] - 0s 1ms/step - loss: 0.6424 - accuracy: 0.6917\n",
      "Epoch 4/150\n",
      "80/80 [==============================] - 0s 1ms/step - loss: 0.6007 - accuracy: 0.7093\n",
      "Epoch 5/150\n",
      "80/80 [==============================] - 0s 1ms/step - loss: 0.6123 - accuracy: 0.7206\n",
      "Epoch 6/150\n",
      "80/80 [==============================] - 0s 2ms/step - loss: 0.5720 - accuracy: 0.7118\n",
      "Epoch 7/150\n",
      "80/80 [==============================] - 0s 1ms/step - loss: 0.5639 - accuracy: 0.7206\n",
      "Epoch 8/150\n",
      "80/80 [==============================] - 0s 1ms/step - loss: 0.5924 - accuracy: 0.7068\n",
      "Epoch 9/150\n",
      "80/80 [==============================] - 0s 1ms/step - loss: 0.5623 - accuracy: 0.7206\n",
      "Epoch 10/150\n",
      "80/80 [==============================] - 0s 1ms/step - loss: 0.5506 - accuracy: 0.7368\n",
      "Epoch 11/150\n",
      "80/80 [==============================] - 0s 1ms/step - loss: 0.5236 - accuracy: 0.7506\n",
      "Epoch 12/150\n",
      "80/80 [==============================] - 0s 1ms/step - loss: 0.5142 - accuracy: 0.7757\n",
      "Epoch 13/150\n",
      "80/80 [==============================] - 0s 1ms/step - loss: 0.5363 - accuracy: 0.7544\n",
      "Epoch 14/150\n",
      "80/80 [==============================] - 0s 1ms/step - loss: 0.5119 - accuracy: 0.7807\n",
      "Epoch 15/150\n",
      "80/80 [==============================] - 0s 1ms/step - loss: 0.4860 - accuracy: 0.7907\n",
      "Epoch 16/150\n",
      "80/80 [==============================] - 0s 1ms/step - loss: 0.4838 - accuracy: 0.7682\n",
      "Epoch 17/150\n",
      "80/80 [==============================] - 0s 1ms/step - loss: 0.4613 - accuracy: 0.7970\n",
      "Epoch 18/150\n",
      "80/80 [==============================] - 0s 1ms/step - loss: 0.4586 - accuracy: 0.7895\n",
      "Epoch 19/150\n",
      "80/80 [==============================] - 0s 1ms/step - loss: 0.4708 - accuracy: 0.8045\n",
      "Epoch 20/150\n",
      "80/80 [==============================] - 0s 1ms/step - loss: 0.4400 - accuracy: 0.7982\n",
      "Epoch 21/150\n",
      "80/80 [==============================] - 0s 1ms/step - loss: 0.4658 - accuracy: 0.7882\n",
      "Epoch 22/150\n",
      "80/80 [==============================] - 0s 1ms/step - loss: 0.4607 - accuracy: 0.8033\n",
      "Epoch 23/150\n",
      "80/80 [==============================] - 0s 1ms/step - loss: 0.4623 - accuracy: 0.8008\n",
      "Epoch 24/150\n",
      "80/80 [==============================] - 0s 2ms/step - loss: 0.4548 - accuracy: 0.7957\n",
      "Epoch 25/150\n",
      "80/80 [==============================] - 0s 2ms/step - loss: 0.4542 - accuracy: 0.8058\n",
      "Epoch 26/150\n",
      "80/80 [==============================] - 0s 1ms/step - loss: 0.4393 - accuracy: 0.8045\n",
      "Epoch 27/150\n",
      "80/80 [==============================] - 0s 1ms/step - loss: 0.4532 - accuracy: 0.8033\n",
      "Epoch 28/150\n",
      "80/80 [==============================] - 0s 1ms/step - loss: 0.4422 - accuracy: 0.7970\n",
      "Epoch 29/150\n",
      "80/80 [==============================] - 0s 3ms/step - loss: 0.4427 - accuracy: 0.8008\n",
      "Epoch 30/150\n",
      "80/80 [==============================] - 0s 2ms/step - loss: 0.4366 - accuracy: 0.8045\n",
      "Epoch 31/150\n",
      "80/80 [==============================] - 0s 2ms/step - loss: 0.4563 - accuracy: 0.7982\n",
      "Epoch 32/150\n",
      "80/80 [==============================] - 0s 1ms/step - loss: 0.4701 - accuracy: 0.7945\n",
      "Epoch 33/150\n",
      "80/80 [==============================] - 0s 1ms/step - loss: 0.5194 - accuracy: 0.7581\n",
      "Epoch 34/150\n",
      "80/80 [==============================] - 0s 1ms/step - loss: 0.4570 - accuracy: 0.7970\n",
      "Epoch 35/150\n",
      "80/80 [==============================] - 0s 2ms/step - loss: 0.4337 - accuracy: 0.8083\n",
      "Epoch 36/150\n",
      "80/80 [==============================] - 0s 1ms/step - loss: 0.4241 - accuracy: 0.8195\n",
      "Epoch 37/150\n",
      "80/80 [==============================] - 0s 1ms/step - loss: 0.4344 - accuracy: 0.7995\n",
      "Epoch 38/150\n",
      "80/80 [==============================] - 0s 2ms/step - loss: 0.4246 - accuracy: 0.8083\n",
      "Epoch 39/150\n",
      "80/80 [==============================] - 0s 1ms/step - loss: 0.4443 - accuracy: 0.8008\n",
      "Epoch 40/150\n",
      "80/80 [==============================] - 0s 1ms/step - loss: 0.4511 - accuracy: 0.7945\n",
      "Epoch 41/150\n",
      "80/80 [==============================] - 0s 1ms/step - loss: 0.4276 - accuracy: 0.7970\n",
      "Epoch 42/150\n",
      "80/80 [==============================] - 0s 2ms/step - loss: 0.4227 - accuracy: 0.8033\n",
      "Epoch 43/150\n",
      "80/80 [==============================] - 0s 1ms/step - loss: 0.4441 - accuracy: 0.8095\n",
      "Epoch 44/150\n",
      "80/80 [==============================] - 0s 1ms/step - loss: 0.4513 - accuracy: 0.8008\n",
      "Epoch 45/150\n",
      "80/80 [==============================] - 0s 1ms/step - loss: 0.4357 - accuracy: 0.8045\n",
      "Epoch 46/150\n",
      "80/80 [==============================] - 0s 1ms/step - loss: 0.4235 - accuracy: 0.8083\n",
      "Epoch 47/150\n",
      "80/80 [==============================] - 0s 1ms/step - loss: 0.4689 - accuracy: 0.8020\n",
      "Epoch 48/150\n",
      "80/80 [==============================] - 0s 1ms/step - loss: 0.4321 - accuracy: 0.8170\n",
      "Epoch 49/150\n",
      "80/80 [==============================] - 0s 1ms/step - loss: 0.4264 - accuracy: 0.8233\n",
      "Epoch 50/150\n",
      "80/80 [==============================] - 0s 1ms/step - loss: 0.4160 - accuracy: 0.8321\n",
      "Epoch 51/150\n",
      "80/80 [==============================] - 0s 1ms/step - loss: 0.4219 - accuracy: 0.8183\n",
      "Epoch 52/150\n",
      "80/80 [==============================] - 0s 1ms/step - loss: 0.4471 - accuracy: 0.8170\n",
      "Epoch 53/150\n",
      "80/80 [==============================] - 0s 1ms/step - loss: 0.4284 - accuracy: 0.8070\n",
      "Epoch 54/150\n",
      "80/80 [==============================] - 0s 1ms/step - loss: 0.4443 - accuracy: 0.8033\n",
      "Epoch 55/150\n",
      "80/80 [==============================] - 0s 1ms/step - loss: 0.4348 - accuracy: 0.8120\n",
      "Epoch 56/150\n",
      "80/80 [==============================] - 0s 1ms/step - loss: 0.4112 - accuracy: 0.8195\n",
      "Epoch 57/150\n",
      "80/80 [==============================] - 0s 1ms/step - loss: 0.4212 - accuracy: 0.8120\n",
      "Epoch 58/150\n",
      "80/80 [==============================] - 0s 1ms/step - loss: 0.4332 - accuracy: 0.8108\n",
      "Epoch 59/150\n",
      "80/80 [==============================] - 0s 1ms/step - loss: 0.4182 - accuracy: 0.8195\n",
      "Epoch 60/150\n",
      "80/80 [==============================] - 0s 1ms/step - loss: 0.4151 - accuracy: 0.8308\n",
      "Epoch 61/150\n",
      "80/80 [==============================] - 0s 1ms/step - loss: 0.4105 - accuracy: 0.8221\n",
      "Epoch 62/150\n",
      "80/80 [==============================] - 0s 1ms/step - loss: 0.4272 - accuracy: 0.8070\n",
      "Epoch 63/150\n",
      "80/80 [==============================] - 0s 1ms/step - loss: 0.4205 - accuracy: 0.8195\n",
      "Epoch 64/150\n",
      "80/80 [==============================] - 0s 1ms/step - loss: 0.4255 - accuracy: 0.8145\n",
      "Epoch 65/150\n",
      "80/80 [==============================] - 0s 1ms/step - loss: 0.4094 - accuracy: 0.8221\n",
      "Epoch 66/150\n",
      "80/80 [==============================] - 0s 1ms/step - loss: 0.4033 - accuracy: 0.8195\n",
      "Epoch 67/150\n",
      "80/80 [==============================] - 0s 1ms/step - loss: 0.4035 - accuracy: 0.8258\n",
      "Epoch 68/150\n",
      "80/80 [==============================] - 0s 1ms/step - loss: 0.4196 - accuracy: 0.8183\n",
      "Epoch 69/150\n",
      "80/80 [==============================] - 0s 1ms/step - loss: 0.4500 - accuracy: 0.8070\n",
      "Epoch 70/150\n",
      "80/80 [==============================] - 0s 1ms/step - loss: 0.4336 - accuracy: 0.8195\n",
      "Epoch 71/150\n",
      "80/80 [==============================] - 0s 1ms/step - loss: 0.4128 - accuracy: 0.8183\n",
      "Epoch 72/150\n",
      "80/80 [==============================] - 0s 1ms/step - loss: 0.4038 - accuracy: 0.8170\n",
      "Epoch 73/150\n",
      "80/80 [==============================] - 0s 1ms/step - loss: 0.3939 - accuracy: 0.8308\n",
      "Epoch 74/150\n",
      "80/80 [==============================] - 0s 1ms/step - loss: 0.4336 - accuracy: 0.8133\n",
      "Epoch 75/150\n",
      "80/80 [==============================] - 0s 1ms/step - loss: 0.4149 - accuracy: 0.8170\n",
      "Epoch 76/150\n",
      "80/80 [==============================] - 0s 1ms/step - loss: 0.4009 - accuracy: 0.8258\n",
      "Epoch 77/150\n",
      "80/80 [==============================] - 0s 1ms/step - loss: 0.4050 - accuracy: 0.8283\n",
      "Epoch 78/150\n",
      "80/80 [==============================] - 0s 1ms/step - loss: 0.4136 - accuracy: 0.8195\n",
      "Epoch 79/150\n",
      "80/80 [==============================] - 0s 1ms/step - loss: 0.3943 - accuracy: 0.8208\n",
      "Epoch 80/150\n",
      "80/80 [==============================] - 0s 1ms/step - loss: 0.4128 - accuracy: 0.8246\n",
      "Epoch 81/150\n",
      "80/80 [==============================] - 0s 1ms/step - loss: 0.4283 - accuracy: 0.8145\n",
      "Epoch 82/150\n",
      "80/80 [==============================] - 0s 1ms/step - loss: 0.3960 - accuracy: 0.8233\n",
      "Epoch 83/150\n"
     ]
    },
    {
     "name": "stdout",
     "output_type": "stream",
     "text": [
      "80/80 [==============================] - 0s 1ms/step - loss: 0.3952 - accuracy: 0.8346\n",
      "Epoch 84/150\n",
      "80/80 [==============================] - 0s 1ms/step - loss: 0.4014 - accuracy: 0.8283\n",
      "Epoch 85/150\n",
      "80/80 [==============================] - 0s 1ms/step - loss: 0.3884 - accuracy: 0.8271\n",
      "Epoch 86/150\n",
      "80/80 [==============================] - 0s 1ms/step - loss: 0.4189 - accuracy: 0.8145\n",
      "Epoch 87/150\n",
      "80/80 [==============================] - 0s 1ms/step - loss: 0.4124 - accuracy: 0.8208\n",
      "Epoch 88/150\n",
      "80/80 [==============================] - 0s 1ms/step - loss: 0.4052 - accuracy: 0.8333\n",
      "Epoch 89/150\n",
      "80/80 [==============================] - 0s 1ms/step - loss: 0.3952 - accuracy: 0.8321\n",
      "Epoch 90/150\n",
      "80/80 [==============================] - 0s 1ms/step - loss: 0.3929 - accuracy: 0.8396\n",
      "Epoch 91/150\n",
      "80/80 [==============================] - 0s 1ms/step - loss: 0.3941 - accuracy: 0.8170\n",
      "Epoch 92/150\n",
      "80/80 [==============================] - 0s 1ms/step - loss: 0.4174 - accuracy: 0.8095\n",
      "Epoch 93/150\n",
      "80/80 [==============================] - 0s 1ms/step - loss: 0.4056 - accuracy: 0.8308\n",
      "Epoch 94/150\n",
      "80/80 [==============================] - 0s 1ms/step - loss: 0.4064 - accuracy: 0.8183\n",
      "Epoch 95/150\n",
      "80/80 [==============================] - 0s 1ms/step - loss: 0.4143 - accuracy: 0.8296\n",
      "Epoch 96/150\n",
      "80/80 [==============================] - 0s 1ms/step - loss: 0.4040 - accuracy: 0.8246\n",
      "Epoch 97/150\n",
      "80/80 [==============================] - 0s 1ms/step - loss: 0.3971 - accuracy: 0.8246\n",
      "Epoch 98/150\n",
      "80/80 [==============================] - 0s 1ms/step - loss: 0.3979 - accuracy: 0.8283\n",
      "Epoch 99/150\n",
      "80/80 [==============================] - 0s 1ms/step - loss: 0.4123 - accuracy: 0.8208\n",
      "Epoch 100/150\n",
      "80/80 [==============================] - 0s 1ms/step - loss: 0.3866 - accuracy: 0.8333\n",
      "Epoch 101/150\n",
      "80/80 [==============================] - 0s 1ms/step - loss: 0.3924 - accuracy: 0.8283\n",
      "Epoch 102/150\n",
      "80/80 [==============================] - 0s 1ms/step - loss: 0.3890 - accuracy: 0.8233\n",
      "Epoch 103/150\n",
      "80/80 [==============================] - 0s 1ms/step - loss: 0.3952 - accuracy: 0.8296\n",
      "Epoch 104/150\n",
      "80/80 [==============================] - 0s 1ms/step - loss: 0.3949 - accuracy: 0.8371\n",
      "Epoch 105/150\n",
      "80/80 [==============================] - 0s 1ms/step - loss: 0.4283 - accuracy: 0.8283\n",
      "Epoch 106/150\n",
      "80/80 [==============================] - 0s 1ms/step - loss: 0.4129 - accuracy: 0.8108\n",
      "Epoch 107/150\n",
      "80/80 [==============================] - 0s 1ms/step - loss: 0.3961 - accuracy: 0.8308\n",
      "Epoch 108/150\n",
      "80/80 [==============================] - 0s 1ms/step - loss: 0.3953 - accuracy: 0.8358\n",
      "Epoch 109/150\n",
      "80/80 [==============================] - 0s 1ms/step - loss: 0.3921 - accuracy: 0.8308\n",
      "Epoch 110/150\n",
      "80/80 [==============================] - 0s 1ms/step - loss: 0.4009 - accuracy: 0.8283\n",
      "Epoch 111/150\n",
      "80/80 [==============================] - 0s 1ms/step - loss: 0.3917 - accuracy: 0.8358\n",
      "Epoch 112/150\n",
      "80/80 [==============================] - 0s 1ms/step - loss: 0.3987 - accuracy: 0.8308\n",
      "Epoch 113/150\n",
      "80/80 [==============================] - 0s 1ms/step - loss: 0.3890 - accuracy: 0.8283\n",
      "Epoch 114/150\n",
      "80/80 [==============================] - 0s 1ms/step - loss: 0.3951 - accuracy: 0.8233\n",
      "Epoch 115/150\n",
      "80/80 [==============================] - 0s 1ms/step - loss: 0.3828 - accuracy: 0.8459\n",
      "Epoch 116/150\n",
      "80/80 [==============================] - 0s 1ms/step - loss: 0.3948 - accuracy: 0.8271\n",
      "Epoch 117/150\n",
      "80/80 [==============================] - 0s 1ms/step - loss: 0.3985 - accuracy: 0.8258\n",
      "Epoch 118/150\n",
      "80/80 [==============================] - 0s 1ms/step - loss: 0.4060 - accuracy: 0.8371\n",
      "Epoch 119/150\n",
      "80/80 [==============================] - 0s 3ms/step - loss: 0.4023 - accuracy: 0.8195\n",
      "Epoch 120/150\n",
      "80/80 [==============================] - 0s 2ms/step - loss: 0.3918 - accuracy: 0.8208\n",
      "Epoch 121/150\n",
      "80/80 [==============================] - 0s 1ms/step - loss: 0.3940 - accuracy: 0.8346\n",
      "Epoch 122/150\n",
      "80/80 [==============================] - 0s 1ms/step - loss: 0.3949 - accuracy: 0.8346\n",
      "Epoch 123/150\n",
      "80/80 [==============================] - 0s 1ms/step - loss: 0.3933 - accuracy: 0.8346\n",
      "Epoch 124/150\n",
      "80/80 [==============================] - 0s 2ms/step - loss: 0.3838 - accuracy: 0.8321\n",
      "Epoch 125/150\n",
      "80/80 [==============================] - 0s 1ms/step - loss: 0.3922 - accuracy: 0.8258\n",
      "Epoch 126/150\n",
      "80/80 [==============================] - 0s 5ms/step - loss: 0.3800 - accuracy: 0.8346\n",
      "Epoch 127/150\n",
      "80/80 [==============================] - 0s 2ms/step - loss: 0.3838 - accuracy: 0.8358\n",
      "Epoch 128/150\n",
      "80/80 [==============================] - 0s 1ms/step - loss: 0.3824 - accuracy: 0.8296\n",
      "Epoch 129/150\n",
      "80/80 [==============================] - 0s 1ms/step - loss: 0.3887 - accuracy: 0.8308\n",
      "Epoch 130/150\n",
      "80/80 [==============================] - 0s 1ms/step - loss: 0.3966 - accuracy: 0.8308\n",
      "Epoch 131/150\n",
      "80/80 [==============================] - 0s 1ms/step - loss: 0.3886 - accuracy: 0.8258\n",
      "Epoch 132/150\n",
      "80/80 [==============================] - 0s 1ms/step - loss: 0.4096 - accuracy: 0.8346\n",
      "Epoch 133/150\n",
      "80/80 [==============================] - 0s 994us/step - loss: 0.3852 - accuracy: 0.8383\n",
      "Epoch 134/150\n",
      "80/80 [==============================] - 0s 1ms/step - loss: 0.4103 - accuracy: 0.8195\n",
      "Epoch 135/150\n",
      "80/80 [==============================] - 0s 1ms/step - loss: 0.3839 - accuracy: 0.8409\n",
      "Epoch 136/150\n",
      "80/80 [==============================] - 0s 1ms/step - loss: 0.3858 - accuracy: 0.8358\n",
      "Epoch 137/150\n",
      "80/80 [==============================] - 0s 1ms/step - loss: 0.3827 - accuracy: 0.8296\n",
      "Epoch 138/150\n",
      "80/80 [==============================] - 0s 1ms/step - loss: 0.3895 - accuracy: 0.8371\n",
      "Epoch 139/150\n",
      "80/80 [==============================] - 0s 1ms/step - loss: 0.4088 - accuracy: 0.8208\n",
      "Epoch 140/150\n",
      "80/80 [==============================] - 0s 1ms/step - loss: 0.3967 - accuracy: 0.8308\n",
      "Epoch 141/150\n",
      "80/80 [==============================] - 0s 1ms/step - loss: 0.3775 - accuracy: 0.8396\n",
      "Epoch 142/150\n",
      "80/80 [==============================] - 0s 1ms/step - loss: 0.4052 - accuracy: 0.8283\n",
      "Epoch 143/150\n",
      "80/80 [==============================] - 0s 1ms/step - loss: 0.3871 - accuracy: 0.8296\n",
      "Epoch 144/150\n",
      "80/80 [==============================] - 0s 1ms/step - loss: 0.3820 - accuracy: 0.8321\n",
      "Epoch 145/150\n",
      "80/80 [==============================] - 0s 1ms/step - loss: 0.3742 - accuracy: 0.8409\n",
      "Epoch 146/150\n",
      "80/80 [==============================] - 0s 1ms/step - loss: 0.3800 - accuracy: 0.8371\n",
      "Epoch 147/150\n",
      "80/80 [==============================] - 0s 1ms/step - loss: 0.3757 - accuracy: 0.8371\n",
      "Epoch 148/150\n",
      "80/80 [==============================] - 0s 1ms/step - loss: 0.3852 - accuracy: 0.8409\n",
      "Epoch 149/150\n",
      "80/80 [==============================] - 0s 1ms/step - loss: 0.3986 - accuracy: 0.8283\n",
      "Epoch 150/150\n",
      "80/80 [==============================] - 0s 1ms/step - loss: 0.3718 - accuracy: 0.8308\n"
     ]
    },
    {
     "data": {
      "text/plain": [
       "<tensorflow.python.keras.callbacks.History at 0x145bf0580>"
      ]
     },
     "execution_count": 125,
     "metadata": {},
     "output_type": "execute_result"
    }
   ],
   "source": [
    "#compile & fit the model\n",
    "model.compile(loss='binary_crossentropy', optimizer='adam', metrics=['accuracy'])\n",
    "model.fit(X_train, y_train, epochs=150, batch_size=10)"
   ]
  },
  {
   "cell_type": "markdown",
   "metadata": {},
   "source": [
    "## Model Accuracy"
   ]
  },
  {
   "cell_type": "code",
   "execution_count": 126,
   "metadata": {},
   "outputs": [
    {
     "name": "stdout",
     "output_type": "stream",
     "text": [
      "25/25 [==============================] - 0s 1ms/step - loss: 0.3618 - accuracy: 0.8434\n",
      "Training Loss: 36.18 Training Accuracy: 84.34\n"
     ]
    }
   ],
   "source": [
    "#Training Accuracy / Loss\n",
    "loss, accuracy = model.evaluate(X_train, y_train)\n",
    "print('Training Loss: %.2f Training Accuracy: %.2f' % (loss*100, accuracy*100))"
   ]
  },
  {
   "cell_type": "code",
   "execution_count": 127,
   "metadata": {},
   "outputs": [
    {
     "name": "stdout",
     "output_type": "stream",
     "text": [
      "3/3 [==============================] - 0s 1ms/step - loss: 0.5525 - accuracy: 0.7303\n",
      "Test Loss: 55.25 Test Accuracy: 73.03\n"
     ]
    }
   ],
   "source": [
    "#Testing Accuracy / Loss\n",
    "loss, accuracy = model.evaluate(X_test, y_test)\n",
    "print('Test Loss: %.2f Test Accuracy: %.2f' % (loss*100, accuracy*100))\n"
   ]
  },
  {
   "cell_type": "markdown",
   "metadata": {},
   "source": [
    "## Produce Predictions"
   ]
  },
  {
   "cell_type": "code",
   "execution_count": 128,
   "metadata": {},
   "outputs": [],
   "source": [
    "y_test_hat = model.predict_classes(X_test)"
   ]
  },
  {
   "cell_type": "code",
   "execution_count": 130,
   "metadata": {},
   "outputs": [
    {
     "name": "stdout",
     "output_type": "stream",
     "text": [
      "[[46  7]\n",
      " [17 19]]\n"
     ]
    }
   ],
   "source": [
    "print(confusion_matrix(y_test, y_test_hat))\n"
   ]
  },
  {
   "cell_type": "code",
   "execution_count": null,
   "metadata": {},
   "outputs": [],
   "source": []
  }
 ],
 "metadata": {
  "kernelspec": {
   "display_name": "Python 3",
   "language": "python",
   "name": "python3"
  },
  "language_info": {
   "codemirror_mode": {
    "name": "ipython",
    "version": 3
   },
   "file_extension": ".py",
   "mimetype": "text/x-python",
   "name": "python",
   "nbconvert_exporter": "python",
   "pygments_lexer": "ipython3",
   "version": "3.8.5"
  }
 },
 "nbformat": 4,
 "nbformat_minor": 2
}
