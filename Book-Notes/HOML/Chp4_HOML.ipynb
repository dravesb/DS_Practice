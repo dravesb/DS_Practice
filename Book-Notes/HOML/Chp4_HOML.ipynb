{
 "cells": [
  {
   "cell_type": "markdown",
   "metadata": {},
   "source": [
    "# Training Models"
   ]
  },
  {
   "cell_type": "markdown",
   "metadata": {},
   "source": [
    "## Linear Regression\n",
    "\n",
    "In this section we'll be focused on the linear model $y = h_{\\theta}(\\mathbf{x}) = \\theta^T\\mathbf{x}$. We'll be focused on two different ways to train the model to arrive at $\\hat{\\theta}$. The most popular method is the MLE which minimizes MSE\n",
    "<center>\n",
    "$\\hat{\\theta} = \\arg\\min \\frac{1}{m}\\sum_{i=1}^m(y_i - \\theta^T\\mathbf{x}_i)^T$\n",
    "</center>\n",
    "This of course has the OLS solution given by $\\hat{\\theta}_{OLS} = (\\mathbf{X}^T\\mathbf{X})^{-1}\\mathbf{X}^T\\mathbf{y}$."
   ]
  },
  {
   "cell_type": "code",
   "execution_count": 7,
   "metadata": {},
   "outputs": [
    {
     "data": {
      "text/plain": [
       "<matplotlib.collections.PathCollection at 0x1151bd280>"
      ]
     },
     "execution_count": 7,
     "metadata": {},
     "output_type": "execute_result"
    },
    {
     "data": {
      "image/png": "[encoded data removed]",
      "text/plain": [
       "<Figure size 432x288 with 1 Axes>"
      ]
     },
     "metadata": {
      "needs_background": "light"
     },
     "output_type": "display_data"
    }
   ],
   "source": [
    "import numpy as np \n",
    "import matplotlib.pyplot as plt\n",
    "X = 2 * np.random.rand(100, 1)\n",
    "y = 4 + 3 * X + np.random.randn(100, 1)\n",
    "plt.scatter(X, y)"
   ]
  },
  {
   "cell_type": "code",
   "execution_count": 8,
   "metadata": {},
   "outputs": [],
   "source": [
    "X_b = np.c_[np.ones((100, 1)), X]\n",
    "theta_ols = np.linalg.inv(X_b.T.dot(X_b)).dot(X_b.T).dot(y)"
   ]
  },
  {
   "cell_type": "code",
   "execution_count": 9,
   "metadata": {},
   "outputs": [
    {
     "data": {
      "text/plain": [
       "array([[4.0410533 ],\n",
       "       [2.93376853]])"
      ]
     },
     "execution_count": 9,
     "metadata": {},
     "output_type": "execute_result"
    }
   ],
   "source": [
    "theta_ols"
   ]
  },
  {
   "cell_type": "code",
   "execution_count": 13,
   "metadata": {},
   "outputs": [],
   "source": [
    "X_new = np.array([[0], [2]])\n",
    "X_new_b = np.c_[np.ones((2, 1)), X_new]\n",
    "y_predict = X_new_b.dot(theta_ols)"
   ]
  },
  {
   "cell_type": "code",
   "execution_count": 14,
   "metadata": {},
   "outputs": [
    {
     "data": {
      "text/plain": [
       "array([[4.0410533 ],\n",
       "       [9.90859036]])"
      ]
     },
     "execution_count": 14,
     "metadata": {},
     "output_type": "execute_result"
    }
   ],
   "source": [
    "y_predict"
   ]
  },
  {
   "cell_type": "code",
   "execution_count": 21,
   "metadata": {},
   "outputs": [
    {
     "data": {
      "image/png": "[encoded data removed]",
      "text/plain": [
       "<Figure size 432x288 with 1 Axes>"
      ]
     },
     "metadata": {
      "needs_background": "light"
     },
     "output_type": "display_data"
    }
   ],
   "source": [
    "plt.plot(X_new, y_predict, \"r-\")\n",
    "plt.plot(X, y, 'b.')\n",
    "plt.axis([0, 2, 0, 15])\n",
    "plt.show()"
   ]
  },
  {
   "cell_type": "code",
   "execution_count": 22,
   "metadata": {},
   "outputs": [
    {
     "data": {
      "text/plain": [
       "(array([4.0410533]), array([[2.93376853]]))"
      ]
     },
     "execution_count": 22,
     "metadata": {},
     "output_type": "execute_result"
    }
   ],
   "source": [
    "#directly from sklearn \n",
    "from sklearn.linear_model import LinearRegression\n",
    "lin_reg = LinearRegression()\n",
    "lin_reg.fit(X, y)\n",
    "lin_reg.intercept_, lin_reg.coef_"
   ]
  },
  {
   "cell_type": "code",
   "execution_count": 23,
   "metadata": {},
   "outputs": [
    {
     "data": {
      "text/plain": [
       "array([[4.0410533 ],\n",
       "       [9.90859036]])"
      ]
     },
     "execution_count": 23,
     "metadata": {},
     "output_type": "execute_result"
    }
   ],
   "source": [
    "lin_reg.predict(X_new)"
   ]
  },
  {
   "cell_type": "code",
   "execution_count": 27,
   "metadata": {},
   "outputs": [
    {
     "data": {
      "text/plain": [
       "array([[4.0410533 ],\n",
       "       [2.93376853]])"
      ]
     },
     "execution_count": 27,
     "metadata": {},
     "output_type": "execute_result"
    }
   ],
   "source": [
    "theta_best_svd, residuals, rank, s = np.linalg.lstsq(X_b, y, rcond = 1e-6)\n",
    "theta_best_svd # the psuedo inverse of X times y $X^{\\dagger}y$"
   ]
  },
  {
   "cell_type": "code",
   "execution_count": 28,
   "metadata": {},
   "outputs": [
    {
     "data": {
      "text/plain": [
       "array([[4.0410533 ],\n",
       "       [2.93376853]])"
      ]
     },
     "execution_count": 28,
     "metadata": {},
     "output_type": "execute_result"
    }
   ],
   "source": [
    "np.linalg.pinv(X_b).dot(y)"
   ]
  },
  {
   "cell_type": "markdown",
   "metadata": {},
   "source": [
    "It may be better to work directly with the psuedo inverse because of rank problems in the normal equations. \n",
    "\n",
    "Computational Complexity: Inverting $X^TX$ takes $O(n^{2.4})$ time while the psudo inverse scales like $O(n^2)$ where $n$ denotes the number of features. It scales linearly in the number of instances $O(m)$ so, provided the dataset can fit into memory, it scales well with the training set size."
   ]
  },
  {
   "cell_type": "markdown",
   "metadata": {},
   "source": [
    "## Gradient Descent \n",
    "\n",
    "This is a much different way to fit $h_{\\theta}(\\cdot)$ that scaled better with the number of features $n$ and when the training set of size $m$ cannot fit into memory. Here we trade off exactly optimal OLS solutions for computation feasibility.\n",
    "\n",
    "The idea is to start with a random initialization of the parameter vector $\\theta_0$ then iteratively tweek $\\theta_t = \\theta_{t-1} -\\eta\\nabla_{\\theta}(f(\\theta_{t-1}))$ to decrease the loss function $f(\\cdot)$.\n",
    "\n",
    "In order to implement GD, you need to find the gradient of the cost function with respect to $\\theta$, $\\nabla_{\\theta}(\\text{f}(\\theta))$. If we take MSE as the cost function the $j$-th partial derivative is given by \n",
    "<center>\n",
    "    $\\frac{\\partial}{\\partial \\theta_j}\\text{MSE}(\\theta) = \\frac{2}{m}\\sum_{i=1}^m(\\theta^T\\mathbf{x}_i - y_i)\\mathbf{x}_{ij}$\n",
    "</center>\n",
    "\n",
    "Writting this in in vector form we have\n",
    "<center>\n",
    "    $\\nabla_{\\theta}\\text{MSE}(\\theta) = \\frac{2}{m}\\mathbf{X}^T(\\mathbf{X}\\theta - \\mathbf{y})$\n",
    "</center>\n",
    "This algorithm is called Batch Gradient Descent because it requires the _full_ 'batch' of training data in each calculation of $\\nabla_{\\theta}\\text{MSE}(\\theta)$. It is very slow of large training sets ($m$) but scales well with the number of features ($n$).  \n",
    "\n",
    "With this the update can be written as \n",
    "\n",
    "<center>\n",
    "    $\\theta_{t} = \\theta_{t-1} - \\eta \\frac{2}{m}\\mathbf{X}^T(\\mathbf{X}\\theta_{t-1} - \\mathbf{y})$\n",
    "</center>\n"
   ]
  },
  {
   "cell_type": "code",
   "execution_count": 29,
   "metadata": {},
   "outputs": [],
   "source": [
    "#quick implementation\n",
    "eta = 0.1 \n",
    "n_iter = 1000\n",
    "m = 100\n",
    "#GD with MSE\n",
    "theta = np.random.randn(2, 1)\n",
    "for iter in range(n_iter):\n",
    "    theta = theta - eta * 2/m * X_b.T.dot(X_b.dot(theta) - y)"
   ]
  },
  {
   "cell_type": "code",
   "execution_count": 32,
   "metadata": {},
   "outputs": [
    {
     "data": {
      "text/plain": [
       "(array([[4.0410533 ],\n",
       "        [2.93376853]]),\n",
       " array([[4.0410533 ],\n",
       "        [2.93376853]]))"
      ]
     },
     "execution_count": 32,
     "metadata": {},
     "output_type": "execute_result"
    }
   ],
   "source": [
    "theta, theta_ols #notice these are the same"
   ]
  },
  {
   "cell_type": "markdown",
   "metadata": {},
   "source": [
    "Convergence Rate: if the cost is convex and second order derivative is smooth, then the rate coverges like $O(1/\\epsilon)$ where $\\epsilon$ is the user chosen tolerance."
   ]
  },
  {
   "cell_type": "markdown",
   "metadata": {},
   "source": [
    "## Stochastic Gradient Descent"
   ]
  },
  {
   "cell_type": "code",
   "execution_count": null,
   "metadata": {},
   "outputs": [],
   "source": []
  }
 ],
 "metadata": {
  "kernelspec": {
   "display_name": "Python 3",
   "language": "python",
   "name": "python3"
  },
  "language_info": {
   "codemirror_mode": {
    "name": "ipython",
    "version": 3
   },
   "file_extension": ".py",
   "mimetype": "text/x-python",
   "name": "python",
   "nbconvert_exporter": "python",
   "pygments_lexer": "ipython3",
   "version": "3.8.3"
  }
 },
 "nbformat": 4,
 "nbformat_minor": 4
}
