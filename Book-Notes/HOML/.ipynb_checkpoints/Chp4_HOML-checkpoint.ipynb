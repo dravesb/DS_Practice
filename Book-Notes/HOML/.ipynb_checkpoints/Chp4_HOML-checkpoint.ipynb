{
 "cells": [
  {
   "cell_type": "markdown",
   "metadata": {},
   "source": [
    "# Training Models"
   ]
  },
  {
   "cell_type": "markdown",
   "metadata": {},
   "source": [
    "## Linear Regression\n",
    "\n",
    "In this section we'll be focused on the linear model $y = h_{\\theta}(\\mathbf{x}) = \\theta^T\\mathbf{x}$. We'll be focused on two different ways to train the model to arrive at $\\hat{\\theta}$. The most popular method is the MLE which minimizes MSE\n",
    "<center>\n",
    "$\\hat{\\theta} = \\arg\\min \\frac{1}{m}\\sum_{i=1}^m(y_i - \\theta^T\\mathbf{x}_i)^T$\n",
    "</center>\n",
    "This of course has the OLS solution given by $\\hat{\\theta}_{OLS} = (\\mathbf{X}^T\\mathbf{X})^{-1}\\mathbf{X}^T\\mathbf{y}$."
   ]
  },
  {
   "cell_type": "code",
   "execution_count": 1,
   "metadata": {},
   "outputs": [
    {
     "data": {
      "text/plain": [
       "<matplotlib.collections.PathCollection at 0x12152daf0>"
      ]
     },
     "execution_count": 1,
     "metadata": {},
     "output_type": "execute_result"
    },
    {
     "data": {
      "image/png": "[encoded data removed]",
      "text/plain": [
       "<Figure size 432x288 with 1 Axes>"
      ]
     },
     "metadata": {
      "needs_background": "light"
     },
     "output_type": "display_data"
    }
   ],
   "source": [
    "import numpy as np \n",
    "import matplotlib.pyplot as plt\n",
    "X = 2 * np.random.rand(100, 1)\n",
    "y = 4 + 3 * X + np.random.randn(100, 1)\n",
    "plt.scatter(X, y)"
   ]
  },
  {
   "cell_type": "code",
   "execution_count": 2,
   "metadata": {},
   "outputs": [],
   "source": [
    "X_b = np.c_[np.ones((100, 1)), X]\n",
    "theta_ols = np.linalg.inv(X_b.T.dot(X_b)).dot(X_b.T).dot(y)"
   ]
  },
  {
   "cell_type": "code",
   "execution_count": 3,
   "metadata": {},
   "outputs": [
    {
     "data": {
      "text/plain": [
       "array([[4.41931532],\n",
       "       [2.73577588]])"
      ]
     },
     "execution_count": 3,
     "metadata": {},
     "output_type": "execute_result"
    }
   ],
   "source": [
    "theta_ols"
   ]
  },
  {
   "cell_type": "code",
   "execution_count": 4,
   "metadata": {},
   "outputs": [],
   "source": [
    "X_new = np.array([[0], [2]])\n",
    "X_new_b = np.c_[np.ones((2, 1)), X_new]\n",
    "y_predict = X_new_b.dot(theta_ols)"
   ]
  },
  {
   "cell_type": "code",
   "execution_count": 5,
   "metadata": {},
   "outputs": [
    {
     "data": {
      "text/plain": [
       "array([[4.41931532],\n",
       "       [9.89086708]])"
      ]
     },
     "execution_count": 5,
     "metadata": {},
     "output_type": "execute_result"
    }
   ],
   "source": [
    "y_predict"
   ]
  },
  {
   "cell_type": "code",
   "execution_count": 6,
   "metadata": {},
   "outputs": [
    {
     "data": {
      "image/png": "[encoded data removed]",
      "text/plain": [
       "<Figure size 432x288 with 1 Axes>"
      ]
     },
     "metadata": {
      "needs_background": "light"
     },
     "output_type": "display_data"
    }
   ],
   "source": [
    "plt.plot(X_new, y_predict, \"r-\")\n",
    "plt.plot(X, y, 'b.')\n",
    "plt.axis([0, 2, 0, 15])\n",
    "plt.show()"
   ]
  },
  {
   "cell_type": "code",
   "execution_count": 7,
   "metadata": {},
   "outputs": [
    {
     "data": {
      "text/plain": [
       "(array([4.41931532]), array([[2.73577588]]))"
      ]
     },
     "execution_count": 7,
     "metadata": {},
     "output_type": "execute_result"
    }
   ],
   "source": [
    "#directly from sklearn \n",
    "from sklearn.linear_model import LinearRegression\n",
    "lin_reg = LinearRegression()\n",
    "lin_reg.fit(X, y)\n",
    "lin_reg.intercept_, lin_reg.coef_"
   ]
  },
  {
   "cell_type": "code",
   "execution_count": 8,
   "metadata": {},
   "outputs": [
    {
     "data": {
      "text/plain": [
       "array([[4.41931532],\n",
       "       [9.89086708]])"
      ]
     },
     "execution_count": 8,
     "metadata": {},
     "output_type": "execute_result"
    }
   ],
   "source": [
    "lin_reg.predict(X_new)"
   ]
  },
  {
   "cell_type": "code",
   "execution_count": 9,
   "metadata": {},
   "outputs": [
    {
     "data": {
      "text/plain": [
       "array([[4.41931532],\n",
       "       [2.73577588]])"
      ]
     },
     "execution_count": 9,
     "metadata": {},
     "output_type": "execute_result"
    }
   ],
   "source": [
    "theta_best_svd, residuals, rank, s = np.linalg.lstsq(X_b, y, rcond = 1e-6)\n",
    "theta_best_svd # the psuedo inverse of X times y $X^{\\dagger}y$"
   ]
  },
  {
   "cell_type": "code",
   "execution_count": 10,
   "metadata": {},
   "outputs": [
    {
     "data": {
      "text/plain": [
       "array([[4.41931532],\n",
       "       [2.73577588]])"
      ]
     },
     "execution_count": 10,
     "metadata": {},
     "output_type": "execute_result"
    }
   ],
   "source": [
    "np.linalg.pinv(X_b).dot(y)"
   ]
  },
  {
   "cell_type": "markdown",
   "metadata": {},
   "source": [
    "It may be better to work directly with the psuedo inverse because of rank problems in the normal equations. \n",
    "\n",
    "Computational Complexity: Inverting $X^TX$ takes $O(n^{2.4})$ time while the psudo inverse scales like $O(n^2)$ where $n$ denotes the number of features. It scales linearly in the number of instances $O(m)$ so, provided the dataset can fit into memory, it scales well with the training set size."
   ]
  },
  {
   "cell_type": "markdown",
   "metadata": {},
   "source": [
    "## Gradient Descent \n",
    "\n",
    "This is a much different way to fit $h_{\\theta}(\\cdot)$ that scaled better with the number of features $n$ and when the training set of size $m$ cannot fit into memory. Here we trade off exactly optimal OLS solutions for computation feasibility.\n",
    "\n",
    "The idea is to start with a random initialization of the parameter vector $\\theta_0$ then iteratively tweek $\\theta_t = \\theta_{t-1} -\\eta\\nabla_{\\theta}(f(\\theta_{t-1}))$ to decrease the loss function $f(\\cdot)$.\n",
    "\n",
    "In order to implement GD, you need to find the gradient of the cost function with respect to $\\theta$, $\\nabla_{\\theta}(\\text{f}(\\theta))$. If we take MSE as the cost function the $j$-th partial derivative is given by \n",
    "<center>\n",
    "    $\\frac{\\partial}{\\partial \\theta_j}\\text{MSE}(\\theta) = \\frac{2}{m}\\sum_{i=1}^m(\\theta^T\\mathbf{x}_i - y_i)\\mathbf{x}_{ij}$\n",
    "</center>\n",
    "\n",
    "Writting this in in vector form we have\n",
    "<center>\n",
    "    $\\nabla_{\\theta}\\text{MSE}(\\theta) = \\frac{2}{m}\\mathbf{X}^T(\\mathbf{X}\\theta - \\mathbf{y})$\n",
    "</center>\n",
    "This algorithm is called Batch Gradient Descent because it requires the _full_ 'batch' of training data in each calculation of $\\nabla_{\\theta}\\text{MSE}(\\theta)$. It is very slow of large training sets ($m$) but scales well with the number of features ($n$).  \n",
    "\n",
    "With this the update can be written as \n",
    "\n",
    "<center>\n",
    "    $\\theta_{t} = \\theta_{t-1} - \\eta \\frac{2}{m}\\mathbf{X}^T(\\mathbf{X}\\theta_{t-1} - \\mathbf{y})$\n",
    "</center>\n"
   ]
  },
  {
   "cell_type": "code",
   "execution_count": 11,
   "metadata": {},
   "outputs": [],
   "source": [
    "#quick implementation\n",
    "eta = 0.1 \n",
    "n_iter = 1000\n",
    "m = 100\n",
    "#GD with MSE\n",
    "theta = np.random.randn(2, 1)\n",
    "for iter in range(n_iter):\n",
    "    theta = theta - eta * 2/m * X_b.T.dot(X_b.dot(theta) - y)"
   ]
  },
  {
   "cell_type": "code",
   "execution_count": 12,
   "metadata": {},
   "outputs": [
    {
     "data": {
      "text/plain": [
       "(array([[4.41931532],\n",
       "        [2.73577588]]),\n",
       " array([[4.41931532],\n",
       "        [2.73577588]]))"
      ]
     },
     "execution_count": 12,
     "metadata": {},
     "output_type": "execute_result"
    }
   ],
   "source": [
    "theta, theta_ols #notice these are the same"
   ]
  },
  {
   "cell_type": "markdown",
   "metadata": {},
   "source": [
    "Convergence Rate: if the cost is convex and second order derivative is smooth, then the rate coverges like $O(1/\\epsilon)$ where $\\epsilon$ is the user chosen tolerance."
   ]
  },
  {
   "cell_type": "markdown",
   "metadata": {},
   "source": [
    "## Stochastic Gradient Descent"
   ]
  },
  {
   "cell_type": "markdown",
   "metadata": {},
   "source": [
    "Standard gradient descent uses the entire training set to calcualte the gradients. Stochastic gradient descent only uses one training instance toe calculate the gradient. The algorithm will bounce around due to this bias, but this could be a good thing with non-convex cost function. The randomness could be bad because it will never truly converge. \n",
    "\n",
    "One idea is to gradually reduce the learning rate. This idea is _simulated annealing_ and the function that determines the learning rate is called the _learning schedule_. "
   ]
  },
  {
   "cell_type": "code",
   "execution_count": 13,
   "metadata": {},
   "outputs": [
    {
     "data": {
      "text/plain": [
       "array([[4.42160837],\n",
       "       [2.66178251]])"
      ]
     },
     "execution_count": 13,
     "metadata": {},
     "output_type": "execute_result"
    }
   ],
   "source": [
    "# basic implementation for MSE loss \n",
    "n_epochs = 50\n",
    "t0, t1 = 5, 50 #hyper parameters\n",
    "def learning_schedule(t):\n",
    "    return t0/(t + t1)\n",
    "\n",
    "theta = np.random.randn(2, 1)\n",
    "\n",
    "for epoch in range(n_epochs):\n",
    "    for i in range(m):\n",
    "        random_index = np.random.randint(m)\n",
    "        xi = X_b[random_index:random_index+1]\n",
    "        yi = y[random_index:random_index+1]\n",
    "        \n",
    "        gradients = 2 * xi.T.dot(xi.dot(theta) - yi)\n",
    "        eta = learning_schedule(epoch*m + i)\n",
    "        theta = theta - eta*gradients\n",
    "\n",
    "#print results\n",
    "theta"
   ]
  },
  {
   "cell_type": "markdown",
   "metadata": {},
   "source": [
    "Instead of randomly choosing each instance, you can also shuffled the data, and scan the data to ensure that each point is used in calculating a gradient. This approach in general converges more slowly. \n",
    "\n",
    "To complete SGD Linaer Regression using sklearn, we use the *SGDRegressor* class. "
   ]
  },
  {
   "cell_type": "code",
   "execution_count": 14,
   "metadata": {},
   "outputs": [
    {
     "data": {
      "text/plain": [
       "SGDRegressor(eta0=0.1, penalty=None)"
      ]
     },
     "execution_count": 14,
     "metadata": {},
     "output_type": "execute_result"
    }
   ],
   "source": [
    "from sklearn.linear_model import SGDRegressor\n",
    "sgd_reg = SGDRegressor(max_iter = 1000, tol = 1e-3, penalty = None, eta0 = .1)\n",
    "sgd_reg.fit(X, y.ravel())"
   ]
  },
  {
   "cell_type": "code",
   "execution_count": 15,
   "metadata": {},
   "outputs": [
    {
     "data": {
      "text/plain": [
       "(array([4.42765417]), array([2.72538047]))"
      ]
     },
     "execution_count": 15,
     "metadata": {},
     "output_type": "execute_result"
    }
   ],
   "source": [
    "sgd_reg.intercept_, sgd_reg.coef_"
   ]
  },
  {
   "cell_type": "markdown",
   "metadata": {},
   "source": [
    "## Mini-batch Gradient Descent\n",
    "\n",
    "Mini-batch gradient descent calculates the gradients based on subsets of the training data called _mini-batches_. The main advatange of this method is you get performance boost from optimization in matrix multiplication so it runs quicker than GD, enjoys the stochastic nature of SGD, but with less variance."
   ]
  },
  {
   "cell_type": "markdown",
   "metadata": {},
   "source": [
    "## Polynomial Regression\n",
    "\n",
    "In this section we'll be foucsed on polynomial regression fit with the same (S)GD methods."
   ]
  },
  {
   "cell_type": "code",
   "execution_count": 16,
   "metadata": {},
   "outputs": [
    {
     "data": {
      "text/plain": [
       "[<matplotlib.lines.Line2D at 0x12419da60>]"
      ]
     },
     "execution_count": 16,
     "metadata": {},
     "output_type": "execute_result"
    },
    {
     "data": {
      "image/png": "[encoded data removed]",
      "text/plain": [
       "<Figure size 432x288 with 1 Axes>"
      ]
     },
     "metadata": {
      "needs_background": "light"
     },
     "output_type": "display_data"
    }
   ],
   "source": [
    "m = 100\n",
    "X = 6 * np.random.rand(m, 1) - 3\n",
    "y = 0.5 * X**2 + X + 2 + np.random.randn(m, 1)\n",
    "plt.plot(X, y, 'b.')"
   ]
  },
  {
   "cell_type": "markdown",
   "metadata": {},
   "source": [
    "We can use sklearn to generate polynomial features then pass them to the LinearRegression class to fit via SVD."
   ]
  },
  {
   "cell_type": "code",
   "execution_count": 17,
   "metadata": {},
   "outputs": [
    {
     "data": {
      "text/plain": [
       "(array([1.13392593]), array([1.13392593, 1.28578802]))"
      ]
     },
     "execution_count": 17,
     "metadata": {},
     "output_type": "execute_result"
    }
   ],
   "source": [
    "from sklearn.preprocessing import PolynomialFeatures\n",
    "poly_features = PolynomialFeatures(degree = 2, include_bias = False)\n",
    "X_poly = poly_features.fit_transform(X)\n",
    "X[0], X_poly[0]"
   ]
  },
  {
   "cell_type": "code",
   "execution_count": 18,
   "metadata": {},
   "outputs": [
    {
     "data": {
      "text/plain": [
       "(array([1.8115289]), array([[0.98231086, 0.54928671]]))"
      ]
     },
     "execution_count": 18,
     "metadata": {},
     "output_type": "execute_result"
    }
   ],
   "source": [
    "lin_reg = LinearRegression()\n",
    "lin_reg.fit(X_poly, y)\n",
    "lin_reg.intercept_, lin_reg.coef_"
   ]
  },
  {
   "cell_type": "markdown",
   "metadata": {},
   "source": [
    "Note: _PolynomialFeatures(degree = d)_ includes all cross terms as well upto degree $d$. So it includes the all terms in $(a+b)^d$. "
   ]
  },
  {
   "cell_type": "markdown",
   "metadata": {},
   "source": [
    "## Learning Curves\n",
    "\n",
    "Learning curves are a visual tool to assess if a model is under/overfitting the data. Plots the models performance on the training and validation set for increasing size of the training data. "
   ]
  },
  {
   "cell_type": "code",
   "execution_count": 19,
   "metadata": {},
   "outputs": [],
   "source": [
    "#create learning curve function\n",
    "from sklearn.metrics import mean_squared_error\n",
    "from sklearn.model_selection import train_test_split \n",
    "\n",
    "np.random.seed(1985)\n",
    "\n",
    "def plot_learning_curves(model, X, y):\n",
    "    X_train, X_val, y_train, y_val = train_test_split(X, y, test_size = 0.2)\n",
    "    train_errors, val_errors = [],[]\n",
    "    for m in range(1, len(X_train)):\n",
    "        model.fit(X_train[:m], y_train[:m])\n",
    "        y_train_predict = model.predict(X_train[:m])\n",
    "        y_val_predict = model.predict(X_val)\n",
    "        train_errors.append(mean_squared_error(y_train[:m], y_train_predict))\n",
    "        val_errors.append(mean_squared_error(y_val, y_val_predict))\n",
    "    plt.plot(np.sqrt(train_errors), 'r-+', linewidth = 2, label = 'train')\n",
    "    plt.plot(np.sqrt(val_errors), 'b-+', linewidth = 3, label = 'val')\n",
    "    plt.legend(loc=\"upper right\")   \n",
    "    plt.xlabel(\"Training set size\") \n",
    "    plt.ylabel(\"RMSE\")              \n",
    "        "
   ]
  },
  {
   "cell_type": "code",
   "execution_count": 20,
   "metadata": {},
   "outputs": [
    {
     "data": {
      "image/png": "[encoded data removed]",
      "text/plain": [
       "<Figure size 432x288 with 1 Axes>"
      ]
     },
     "metadata": {
      "needs_background": "light"
     },
     "output_type": "display_data"
    }
   ],
   "source": [
    "#Test on linear regression model\n",
    "lin_reg = LinearRegression()\n",
    "plot_learning_curves(lin_reg, X, y)"
   ]
  },
  {
   "cell_type": "markdown",
   "metadata": {},
   "source": [
    "When both curves plateau and are fairly high is a sign of underfitting. "
   ]
  },
  {
   "cell_type": "code",
   "execution_count": 21,
   "metadata": {},
   "outputs": [
    {
     "data": {
      "text/plain": [
       "(0.0, 80.0, 0.0, 3.0)"
      ]
     },
     "execution_count": 21,
     "metadata": {},
     "output_type": "execute_result"
    },
    {
     "data": {
      "image/png": "[encoded data removed]",
      "text/plain": [
       "<Figure size 432x288 with 1 Axes>"
      ]
     },
     "metadata": {
      "needs_background": "light"
     },
     "output_type": "display_data"
    }
   ],
   "source": [
    "from sklearn.pipeline import Pipeline\n",
    "polynomial_regression = Pipeline([\n",
    "    ('poly_features', PolynomialFeatures(degree = 10, include_bias = False)), \n",
    "    ('lin_reg', LinearRegression())\n",
    "])\n",
    "plot_learning_curves(polynomial_regression, X, y)\n",
    "plt.axis([0, 80, 0, 3]) "
   ]
  },
  {
   "cell_type": "markdown",
   "metadata": {},
   "source": [
    "First notice that the training error is much lower than the linear model. Also notice the gap between the two lines suggesting poor generalization - i.e. overfitting. "
   ]
  },
  {
   "cell_type": "markdown",
   "metadata": {},
   "source": [
    "## Regularized Linear Models\n",
    "\n",
    "Ridge regression adds regularization by adding in an $\\ell_2$ penalty if $\\alpha\\|\\theta\\|_2^2$. \n",
    "<center>\n",
    "    $J(\\theta) = \\text{MSE}(\\theta) + \\frac{\\alpha}{2}\\|\\theta\\|_2^2$\n",
    "</center>\n",
    "Note: The penalty turn should only be used in training. You want to use unregularized measures of fit for the validation set. \n",
    "Note: We rarely regularize $\\theta_0$. For ease of notation, we'll assume that $\\theta = (\\theta_1, \\ldots, \\theta_n)^T$. \n",
    "With this loss function, in training we just add $\\alpha\\|\\theta\\|_2$ to the SDG update. Ridge also have a closed form solution given by\n",
    "<center>\n",
    "    $\\hat{\\theta} = (\\mathbf{X}^T\\mathbf{X} + \\alpha\\mathbf{I})^{-1}\\mathbf{X}^T\\mathbf{y}$\n",
    "</center>\n"
   ]
  },
  {
   "cell_type": "code",
   "execution_count": 22,
   "metadata": {},
   "outputs": [
    {
     "data": {
      "text/plain": [
       "array([[5.14513327]])"
      ]
     },
     "execution_count": 22,
     "metadata": {},
     "output_type": "execute_result"
    }
   ],
   "source": [
    "#Ridge fit with closed form solution\n",
    "from sklearn.linear_model import Ridge\n",
    "ridge_reg = Ridge(alpha=1, solver='cholesky')\n",
    "ridge_reg.fit(X, y)\n",
    "ridge_reg.predict([[1.5]])"
   ]
  },
  {
   "cell_type": "code",
   "execution_count": 23,
   "metadata": {},
   "outputs": [
    {
     "data": {
      "text/plain": [
       "array([5.14113205])"
      ]
     },
     "execution_count": 23,
     "metadata": {},
     "output_type": "execute_result"
    }
   ],
   "source": [
    "#Ridge fit with SGD \n",
    "sgd_reg = SGDRegressor(penalty ='l2')\n",
    "sgd_reg.fit(X, y.ravel())\n",
    "sgd_reg.predict([[1.5]])\n"
   ]
  },
  {
   "cell_type": "markdown",
   "metadata": {},
   "source": [
    "Lasso regrssion is another approach to regularization using an $\\ell_1$ penalty $\\alpha\\|\\theta\\|_1$. \n",
    "<center>\n",
    "    $J(\\theta) = \\text{MSE}(\\theta) + \\alpha\\|\\theta\\|_1$\n",
    "</center>\n",
    "Then central difference between ridge and lasso is that lasso can acuatally set values to zero.\n",
    "Since $J(\\theta)$ is non-differential, we rely on _subgradient_ vectors to carry out the SGD. In particular\n",
    "<center>\n",
    "    $g(\\theta, J) = \\nabla_{\\theta}\\text{MSE}(\\theta) + \\alpha[\\text{sgn}(\\theta_i)]_{i=1}^n$\n",
    "</center>\n",
    "where we can write $sng(\\theta)$ as \n",
    "<center>\n",
    "    $sgn(\\theta) = \\begin{cases}\n",
    "    -1 & \\theta < 0 \\\\ \n",
    "    0 & \\theta = 0\\\\\n",
    "    1 & \\theta > 0\n",
    "    \\end{cases}$\n",
    "</center>"
   ]
  },
  {
   "cell_type": "code",
   "execution_count": 24,
   "metadata": {},
   "outputs": [
    {
     "data": {
      "text/plain": [
       "array([5.10094179])"
      ]
     },
     "execution_count": 24,
     "metadata": {},
     "output_type": "execute_result"
    }
   ],
   "source": [
    "from sklearn.linear_model import Lasso\n",
    "lasso_reg = Lasso(alpha = 0.1)\n",
    "lasso_reg.fit(X, y)\n",
    "lasso_reg.predict([[1.5]])"
   ]
  },
  {
   "cell_type": "markdown",
   "metadata": {},
   "source": [
    "Finally, we can combine lasso and ridge to complete _elastic net_ regression. \n",
    "<center>\n",
    "    $J(\\theta) = \\text{MSE}(\\theta) + r\\alpha\\|\\theta\\|_1 + \\frac{1-r}{2}\\alpha\\|\\theta\\|_2^2$\n",
    "</center>\n",
    "Why? When $p > n$ lasso can behave erratically. So elastic net helps by centering the solution around the ridge solution."
   ]
  },
  {
   "cell_type": "code",
   "execution_count": 25,
   "metadata": {},
   "outputs": [
    {
     "data": {
      "text/plain": [
       "array([5.10282739])"
      ]
     },
     "execution_count": 25,
     "metadata": {},
     "output_type": "execute_result"
    }
   ],
   "source": [
    "from sklearn.linear_model import ElasticNet\n",
    "elastic_net = ElasticNet(alpha = 0.1, l1_ratio = 0.5)\n",
    "elastic_net.fit(X, y)\n",
    "elastic_net.predict([[1.5]])"
   ]
  },
  {
   "cell_type": "markdown",
   "metadata": {},
   "source": [
    "## Early Stopping\n",
    "\n",
    "Another way to induce regularization is to simply stop SGD when the validation error hits a minimum. This approach is called _early stopping_."
   ]
  },
  {
   "cell_type": "code",
   "execution_count": 26,
   "metadata": {},
   "outputs": [],
   "source": [
    "from sklearn.base import clone\n",
    "from sklearn.preprocessing import StandardScaler\n",
    "\n",
    "#prep data \n",
    "X_train, X_val, y_train, y_val = train_test_split(X, y, test_size = 0.2)\n",
    "poly_scaler = Pipeline([\n",
    "    ('poly_features', PolynomialFeatures(degree = 90, include_bias = False)),\n",
    "    ('std_scaler', StandardScaler())\n",
    "])\n",
    "X_train_poly_scaled = poly_scaler.fit_transform(X_train)\n",
    "X_val_poly_scaled = poly_scaler.fit_transform(X_val)\n",
    "\n",
    "#set up model\n",
    "sgd_reg = SGDRegressor(max_iter = 1, tol = -np.infty, warm_start = True, \n",
    "                       penalty = None, learning_rate = 'constant', eta0 = 0.0005)\n",
    "\n",
    "#early stopping alg \n",
    "minimum_val_error = float('inf')\n",
    "best_epoch = None\n",
    "best_model = None\n",
    "for epoch in range(1000):\n",
    "    sgd_reg.fit(X_train_poly_scaled, y_train.ravel()) #saves the current state at every epoch due to warm_start = True\n",
    "    y_val_predict = sgd_reg.predict(X_val_poly_scaled)\n",
    "    val_error = mean_squared_error(y_val, y_val_predict)\n",
    "    if val_error < minimum_val_error:\n",
    "        minimum_val_error = val_error\n",
    "        best_epoch = epoch\n",
    "        best_model = clone(sgd_reg)"
   ]
  },
  {
   "cell_type": "markdown",
   "metadata": {},
   "source": [
    "## Logistic Regression\n",
    "\n"
   ]
  },
  {
   "cell_type": "markdown",
   "metadata": {},
   "source": [
    "In logistic regression we focus on modeling the log-odds relating the response to the covariates via a logistic link.\n",
    "<center>\n",
    "    $\\hat{p} = h_{\\theta}(\\mathbf{x}) = \\frac{1}{1 + \\exp(-\\mathbf{x}^T\\theta)}$\n",
    "</center>\n",
    "Classification is then completed via the thresholding \n",
    "<center>\n",
    "    $\\hat{y} = \\begin{cases}\n",
    "    1 & \\hat{p} < 0.5 \\\\ 0 & \\hat{p} \\geq 0.5\n",
    "    \\end{cases}$\n",
    "</center>\n",
    "We fit $h_{\\theta}(\\cdot)$ by MLE which correpsonds to the cost function\n",
    "<center>\n",
    "    $c(\\theta) = \\begin{cases}-\\log(\\hat{p}) & y = 1\\\\ -\\log(1-\\hat{p}) & y = 0 \\end{cases}$.\n",
    "</center>\n",
    "With this we can write the full log-loss as \n",
    "<center>\n",
    "    $J(\\theta) = -\\frac{1}{m}\\sum_{i=1}^m\\left(y_i\\log(\\hat{p}_i) + (1-y_i)\\log(1-\\hat{p}_i)\\right)$\n",
    "</center>\n",
    "$J(\\theta)$ has no closed form solution but is convex so any SGD or IRLS algorithm will converge to the global minimizers. The partial derivates used in these algorithms are given by \n",
    "<center>\n",
    "    $\\frac{\\partial}{\\partial \\theta_j}J(\\theta) = \\frac{1}{m}\\sum_{i=1}^m (\\sigma(\\theta^T\\mathbf{x}_i) - y_i)x_{ij}$\n",
    "</center>"
   ]
  },
  {
   "cell_type": "code",
   "execution_count": 28,
   "metadata": {},
   "outputs": [
    {
     "data": {
      "text/plain": [
       "['data',\n",
       " 'target',\n",
       " 'frame',\n",
       " 'target_names',\n",
       " 'DESCR',\n",
       " 'feature_names',\n",
       " 'filename']"
      ]
     },
     "execution_count": 28,
     "metadata": {},
     "output_type": "execute_result"
    }
   ],
   "source": [
    "from sklearn import datasets\n",
    "iris = datasets.load_iris()\n",
    "list(iris.keys())"
   ]
  },
  {
   "cell_type": "code",
   "execution_count": 32,
   "metadata": {},
   "outputs": [],
   "source": [
    "X = iris['data'][:, 3:]\n",
    "y = (iris['target'] == 2).astype(np.int) # Trying to classify iris virginica "
   ]
  },
  {
   "cell_type": "code",
   "execution_count": 33,
   "metadata": {},
   "outputs": [
    {
     "data": {
      "text/plain": [
       "LogisticRegression()"
      ]
     },
     "execution_count": 33,
     "metadata": {},
     "output_type": "execute_result"
    }
   ],
   "source": [
    "from sklearn.linear_model import LogisticRegression\n",
    "log_reg = LogisticRegression()\n",
    "log_reg.fit(X, y)"
   ]
  },
  {
   "cell_type": "code",
   "execution_count": 34,
   "metadata": {},
   "outputs": [
    {
     "data": {
      "text/plain": [
       "[<matplotlib.lines.Line2D at 0x1243ab7f0>]"
      ]
     },
     "execution_count": 34,
     "metadata": {},
     "output_type": "execute_result"
    },
    {
     "data": {
      "image/png": "[encoded data removed]",
      "text/plain": [
       "<Figure size 432x288 with 1 Axes>"
      ]
     },
     "metadata": {
      "needs_background": "light"
     },
     "output_type": "display_data"
    }
   ],
   "source": [
    "X_new = np.linspace(0, 3, 1000).reshape(-1, 1)\n",
    "y_proba = log_reg.predict_proba(X_new)\n",
    "plt.plot(X_new, y_proba[:,1], 'g-', label = 'Iris virginica')\n",
    "plt.plot(X_new, y_proba[:, 0], 'b', label = 'Not Iris virginica')"
   ]
  },
  {
   "cell_type": "code",
   "execution_count": 35,
   "metadata": {},
   "outputs": [
    {
     "data": {
      "text/plain": [
       "array([1, 0])"
      ]
     },
     "execution_count": 35,
     "metadata": {},
     "output_type": "execute_result"
    }
   ],
   "source": [
    "log_reg.predict([[1.7] ,[1.5]])"
   ]
  },
  {
   "cell_type": "markdown",
   "metadata": {},
   "source": [
    "Note: scikit automatically adds in $\\ell_2$ regularization with parameter $c$ where $c\\propto 1/\\alpha$. That is higher values of $c$ correspond to _less_ regularization"
   ]
  },
  {
   "cell_type": "markdown",
   "metadata": {},
   "source": [
    "## Softmax Regression\n",
    "\n",
    "Softmax regression generalizes logistic regression to multiple classes. It first computes scores $$s_k(\\mathbf{x}) =\\mathbf{x}^T\\theta^{(k)}$$. Notice that each class has its own parameter vector so $\\Theta = [\\theta^{(1)T}\\dots \\theta^{(K)T}]^T$ parameterizes the model. You can then find the estimated probabilities by running each score through the softmax function $$\\hat{p}_k = \\frac{\\exp(s_k(\\mathbf{x}))}{\\sum_{k=1}^K\\exp(s_k(\\mathbf{x}))}$$.\n",
    "Finally, class predictions are made via $\\hat{y} = \\arg\\max_{k\\in[K]} \\hat{p}_k$. "
   ]
  },
  {
   "cell_type": "markdown",
   "metadata": {},
   "source": [
    "Training occurs by minimizing _cross entropy_ $$J(\\theta) = -\\frac{1}{m}\\sum_{i=1}^m\\sum_{k=1}^Ky_k^{(i)}\\log(\\hat{p}_k^{(i)})$$. The gradients for cross entropy cna be written as $$\\nabla_{\\theta^{(k)}}J(\\theta) = \\frac{1}{m}\\sum_{i=1}^m(\\hat{p}_k^{(i)} - y_k^{(i)})\\mathbf{x}^{(i)}$$."
   ]
  },
  {
   "cell_type": "code",
   "execution_count": 36,
   "metadata": {},
   "outputs": [
    {
     "data": {
      "text/plain": [
       "LogisticRegression(C=10, multi_class='multinomial')"
      ]
     },
     "execution_count": 36,
     "metadata": {},
     "output_type": "execute_result"
    }
   ],
   "source": [
    "#fetch data and all targets\n",
    "X = iris['data'][:,(2,3)]\n",
    "y = iris['target']\n",
    "\n",
    "#fit model\n",
    "softmax_reg = LogisticRegression(multi_class = 'multinomial', solver = 'lbfgs', C = 10)\n",
    "softmax_reg.fit(X, y)"
   ]
  },
  {
   "cell_type": "code",
   "execution_count": 38,
   "metadata": {},
   "outputs": [
    {
     "data": {
      "text/plain": [
       "array([2])"
      ]
     },
     "execution_count": 38,
     "metadata": {},
     "output_type": "execute_result"
    }
   ],
   "source": [
    "softmax_reg.predict([[5,2]])"
   ]
  },
  {
   "cell_type": "code",
   "execution_count": 39,
   "metadata": {},
   "outputs": [
    {
     "data": {
      "text/plain": [
       "array([[6.38014896e-07, 5.74929995e-02, 9.42506362e-01]])"
      ]
     },
     "execution_count": 39,
     "metadata": {},
     "output_type": "execute_result"
    }
   ],
   "source": [
    "softmax_reg.predict_proba([[5,2]])"
   ]
  },
  {
   "cell_type": "markdown",
   "metadata": {},
   "source": [
    "## Exercises \n",
    "\n",
    "1. You should use SGD or mini-batch SGD. Using the SVD solution will scale like $O(p^3)$ where $p$ is the number of features so this will be untractable. SGD is more robust to large $p$ problems.\n",
    "2. Gradient Descent algorithms suffer from this because the magnitude of the graidents are artifically inflated by feature magnitude. Exact solutions are robust to this. You can remedy these issues by standarizing the input variables. \n",
    "3. No - the logistic likelihood is convex. \n",
    "4. Not necessarily - e.g. nonconvexity, step sizes in SGD, etc.\n",
    "5. Overfitting is probably happening. Try regularizing. (Solution suggests that the learning rate is too high). \n",
    "6. Early stopping suggests yes. But mini-batch GD means we could have not seen part of the data, so the model might be fitting to a new part of the data. So I would suggest to continue training. \n",
    "7. If fastest is runtime not number of iterations, SGD will reach it the fastest. GD will actually converge (assuming convexity) but be the slowest. SGD and mini-batch can converge if you include simulated annealing.\n",
    "8. Overfitting. Reduce the degree of the polynomial as a form of regularization.\n",
    "9. You're underfitting here. Reduce the learning parameter to fit the data more closely. We're suffering from high bias. \n",
    "10. \n",
    "    a. Control for outliers, better generalizations, stability.\n",
    "    b. Feature selection.\n",
    "    c. When p > n \n",
    "11. You should do two logistic regression models since there is overlap in the output categories (e.g. Daytime - Outdoors)\n",
    "12. (Implement batch gradient descent with early stopping for softmax. )"
   ]
  },
  {
   "cell_type": "code",
   "execution_count": 154,
   "metadata": {},
   "outputs": [
    {
     "name": "stdout",
     "output_type": "stream",
     "text": [
      "(25, 1)\n",
      "(25, 1)\n",
      "(25, 2)\n"
     ]
    },
    {
     "ename": "ValueError",
     "evalue": "operands could not be broadcast together with shapes (25,3) (25,2) ",
     "output_type": "error",
     "traceback": [
      "\u001b[0;31m---------------------------------------------------------------------------\u001b[0m",
      "\u001b[0;31mValueError\u001b[0m                                Traceback (most recent call last)",
      "\u001b[0;32m<ipython-input-154-2177552e95af>\u001b[0m in \u001b[0;36m<module>\u001b[0;34m\u001b[0m\n\u001b[1;32m     36\u001b[0m \u001b[0;34m\u001b[0m\u001b[0m\n\u001b[1;32m     37\u001b[0m         \u001b[0;31m#calculate gradients\u001b[0m\u001b[0;34m\u001b[0m\u001b[0;34m\u001b[0m\u001b[0;34m\u001b[0m\u001b[0m\n\u001b[0;32m---> 38\u001b[0;31m         \u001b[0mgradients\u001b[0m \u001b[0;34m=\u001b[0m \u001b[0;36m1\u001b[0m\u001b[0;34m/\u001b[0m\u001b[0mm\u001b[0m \u001b[0;34m*\u001b[0m \u001b[0mX_batch\u001b[0m\u001b[0;34m.\u001b[0m\u001b[0mT\u001b[0m\u001b[0;34m.\u001b[0m\u001b[0mdot\u001b[0m\u001b[0;34m(\u001b[0m\u001b[0mpk\u001b[0m \u001b[0;34m-\u001b[0m \u001b[0my_mat\u001b[0m\u001b[0;34m)\u001b[0m\u001b[0;34m\u001b[0m\u001b[0;34m\u001b[0m\u001b[0m\n\u001b[0m\u001b[1;32m     39\u001b[0m \u001b[0;34m\u001b[0m\u001b[0m\n\u001b[1;32m     40\u001b[0m         \u001b[0;31m#update theta\u001b[0m\u001b[0;34m\u001b[0m\u001b[0;34m\u001b[0m\u001b[0;34m\u001b[0m\u001b[0m\n",
      "\u001b[0;31mValueError\u001b[0m: operands could not be broadcast together with shapes (25,3) (25,2) "
     ]
    }
   ],
   "source": [
    "#early stopping alg for mini-batch SGD for softmax \n",
    "minimum_val_error = float('inf')\n",
    "best_epoch = None\n",
    "best_model = None\n",
    "batch_size = 25\n",
    "batchs = np.shape(X)[0] // batch_size\n",
    "theta = np.random.randn(3, 3)\n",
    "n, m = np.shape(X)\n",
    "ind = np.random.shuffle([x for x in range(np.shape(X)[0])])\n",
    "X_shuffle = np.c_[np.ones(150), X[ind, :].reshape(150, 2)]\n",
    "y_shuffle = y[ind].reshape(150,)\n",
    "eta = 0.1\n",
    "\n",
    "#this function comes from the solutions found here: https://github.com/ageron/handson-ml2/blob/master/04_training_linear_models.ipynb\n",
    "#@author A. Geron \n",
    "def to_one_hot(y):\n",
    "    n_classes = y.max() + 1\n",
    "    m = len(y)\n",
    "    Y_one_hot = np.zeros((m, n_classes))\n",
    "    Y_one_hot[np.arange(m), y] = 1\n",
    "    return Y_one_hot\n",
    "\n",
    "for epoch in range(1000):\n",
    "    for i in range(batchs):\n",
    "        #get X and y for this batch\n",
    "        X_batch = X_shuffle[(batch_size*i):(batch_size*(i+1)) , :]\n",
    "        y_batch = y_shuffle[(batch_size*i):(batch_size*(i+1))]\n",
    "        \n",
    "        #fetch y_mat\n",
    "        y_mat = to_one_hot(y_batch)\n",
    "        print(np.shape(y_mat))\n",
    "        \n",
    "        #calculate p's\n",
    "        sk = np.exp(X_batch @ theta)\n",
    "        pk = sk / np.sum(sk, axis = 1)[:, None]\n",
    "        \n",
    "        #calculate gradients\n",
    "        gradients = 1/m * X_batch.T.dot(pk - y_mat)\n",
    "        \n",
    "        #update theta\n",
    "        theta -= eta * gradients\n",
    "        \n",
    "        \n",
    "        #analyze for early stopping "
   ]
  },
  {
   "cell_type": "code",
   "execution_count": 141,
   "metadata": {},
   "outputs": [],
   "source": [
    "minimum_val_error = float('inf')\n",
    "best_epoch = None\n",
    "best_model = None\n",
    "batch_size = 25\n",
    "batchs = np.shape(X)[0] // batch_size\n",
    "theta = np.random.randn(6, 1).reshape(2, 3)\n",
    "n, m = np.shape(X)\n",
    "ind = np.random.shuffle([x for x in range(np.shape(X)[0])])\n",
    "X_shuffle = X[ind, :]\n",
    "y_shuffle = y[ind]"
   ]
  },
  {
   "cell_type": "code",
   "execution_count": 145,
   "metadata": {},
   "outputs": [
    {
     "data": {
      "text/plain": [
       "(150,)"
      ]
     },
     "execution_count": 145,
     "metadata": {},
     "output_type": "execute_result"
    }
   ],
   "source": [
    "np.shape(y_shuffle.reshape(150, ))"
   ]
  },
  {
   "cell_type": "code",
   "execution_count": null,
   "metadata": {},
   "outputs": [],
   "source": []
  }
 ],
 "metadata": {
  "kernelspec": {
   "display_name": "Python 3",
   "language": "python",
   "name": "python3"
  },
  "language_info": {
   "codemirror_mode": {
    "name": "ipython",
    "version": 3
   },
   "file_extension": ".py",
   "mimetype": "text/x-python",
   "name": "python",
   "nbconvert_exporter": "python",
   "pygments_lexer": "ipython3",
   "version": "3.8.3"
  }
 },
 "nbformat": 4,
 "nbformat_minor": 4
}
